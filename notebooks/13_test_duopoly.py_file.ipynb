{
 "cells": [
  {
   "cell_type": "code",
   "execution_count": 1,
   "id": "dfc48621",
   "metadata": {},
   "outputs": [],
   "source": [
    "from duopoly import *"
   ]
  },
  {
   "cell_type": "code",
   "execution_count": 2,
   "id": "09a0ed2f",
   "metadata": {},
   "outputs": [
    {
     "data": {
      "text/plain": [
       "(50, {})"
      ]
     },
     "execution_count": 2,
     "metadata": {},
     "output_type": "execute_result"
    }
   ],
   "source": [
    "price, information_dump = p(\n",
    "    current_selling_season=1,\n",
    "    selling_period_in_current_season=1,\n",
    "    prices_historical_in_current_season=None,\n",
    "    demand_historical_in_current_season=None,\n",
    "    competitor_has_capacity_current_period_in_current_season=True,\n",
    "    information_dump=None,\n",
    ")\n",
    "price, information_dump"
   ]
  },
  {
   "cell_type": "code",
   "execution_count": 3,
   "id": "44247154",
   "metadata": {},
   "outputs": [],
   "source": [
    "for i in range(10):\n",
    "    price, information_dump = p(\n",
    "        current_selling_season=1,\n",
    "        selling_period_in_current_season=2+i,\n",
    "        prices_historical_in_current_season=np.array([[22], [30]]),\n",
    "        demand_historical_in_current_season=np.array([8]),\n",
    "        competitor_has_capacity_current_period_in_current_season=True,\n",
    "        information_dump=information_dump,\n",
    "    )\n",
    "    price, information_dump"
   ]
  },
  {
   "cell_type": "code",
   "execution_count": 4,
   "id": "a4ca7805",
   "metadata": {},
   "outputs": [
    {
     "data": {
      "text/plain": [
       "(50, {})"
      ]
     },
     "execution_count": 4,
     "metadata": {},
     "output_type": "execute_result"
    }
   ],
   "source": [
    "price, information_dump = p(\n",
    "    current_selling_season=1,\n",
    "    selling_period_in_current_season=12,\n",
    "    prices_historical_in_current_season=np.array([[22], [30]]),\n",
    "    demand_historical_in_current_season=np.array([20]),\n",
    "    competitor_has_capacity_current_period_in_current_season=True,\n",
    "    information_dump=information_dump,\n",
    ")\n",
    "price, information_dump"
   ]
  },
  {
   "cell_type": "code",
   "execution_count": 5,
   "id": "13cdc225",
   "metadata": {},
   "outputs": [
    {
     "name": "stdout",
     "output_type": "stream",
     "text": [
      "WARNING:tensorflow:From C:\\Users\\u02vpe\\Anaconda3\\envs\\dynamic_pricing_comp\\lib\\site-packages\\tensorflow\\python\\autograph\\impl\\api.py:383: ReplayBuffer.get_next (from tf_agents.replay_buffers.replay_buffer) is deprecated and will be removed in a future version.\n",
      "Instructions for updating:\n",
      "Use `as_dataset(..., single_deterministic_pass=False) instead.\n"
     ]
    },
    {
     "name": "stderr",
     "output_type": "stream",
     "text": [
      "WARNING:tensorflow:From C:\\Users\\u02vpe\\Anaconda3\\envs\\dynamic_pricing_comp\\lib\\site-packages\\tensorflow\\python\\autograph\\impl\\api.py:383: ReplayBuffer.get_next (from tf_agents.replay_buffers.replay_buffer) is deprecated and will be removed in a future version.\n",
      "Instructions for updating:\n",
      "Use `as_dataset(..., single_deterministic_pass=False) instead.\n"
     ]
    },
    {
     "data": {
      "text/plain": [
       "(22,\n",
       " {'prev_price': 22,\n",
       "  'prev_discount': array([0]),\n",
       "  'prev_observation': array([0.], dtype=float32),\n",
       "  'prev_reward': array([1.], dtype=float32),\n",
       "  'prev_step_type': array([[ 1,  0,  1, 50, 50, 50, 50, 50, 50, 50, 50, 50, 50, 50, 50, 50,\n",
       "          50, 50, 50, 50, 50, 50, 50,  1,  1,  1,  1,  1,  1,  1,  1,  1,\n",
       "           1]])})"
      ]
     },
     "execution_count": 5,
     "metadata": {},
     "output_type": "execute_result"
    }
   ],
   "source": [
    "price, information_dump = p(\n",
    "    current_selling_season=2,\n",
    "    selling_period_in_current_season=1,\n",
    "    prices_historical_in_current_season=None,\n",
    "    demand_historical_in_current_season=None,\n",
    "    competitor_has_capacity_current_period_in_current_season=True,\n",
    "    information_dump=information_dump,\n",
    ")\n",
    "price, information_dump"
   ]
  },
  {
   "cell_type": "code",
   "execution_count": 6,
   "id": "d1576179",
   "metadata": {},
   "outputs": [
    {
     "data": {
      "text/plain": [
       "(94,\n",
       " {'prev_price': 94,\n",
       "  'prev_discount': array([1]),\n",
       "  'prev_observation': array([270.72], dtype=float32),\n",
       "  'prev_reward': array([1.], dtype=float32),\n",
       "  'prev_step_type': array([[ 2, 20,  1, 30, 50, 50, 50, 50, 50, 50, 50, 50, 50, 22, 50, 50,\n",
       "          50, 50, 50, 50, 50, 50, 50, 20,  1,  1,  1,  1,  1,  1,  1,  1,\n",
       "           1]])})"
      ]
     },
     "execution_count": 6,
     "metadata": {},
     "output_type": "execute_result"
    }
   ],
   "source": [
    "price, information_dump = p(\n",
    "    current_selling_season=2,\n",
    "    selling_period_in_current_season=2,\n",
    "    prices_historical_in_current_season=np.array([[22], [30]]),\n",
    "    demand_historical_in_current_season=np.array([20]),\n",
    "    competitor_has_capacity_current_period_in_current_season=True,\n",
    "    information_dump=information_dump,\n",
    ")\n",
    "price, information_dump"
   ]
  },
  {
   "cell_type": "code",
   "execution_count": null,
   "id": "c75e56dc",
   "metadata": {},
   "outputs": [],
   "source": []
  }
 ],
 "metadata": {
  "kernelspec": {
   "display_name": "dynamic_pricing_comp",
   "language": "python",
   "name": "dynamic_pricing_comp"
  },
  "language_info": {
   "codemirror_mode": {
    "name": "ipython",
    "version": 3
   },
   "file_extension": ".py",
   "mimetype": "text/x-python",
   "name": "python",
   "nbconvert_exporter": "python",
   "pygments_lexer": "ipython3",
   "version": "3.7.11"
  }
 },
 "nbformat": 4,
 "nbformat_minor": 5
}
