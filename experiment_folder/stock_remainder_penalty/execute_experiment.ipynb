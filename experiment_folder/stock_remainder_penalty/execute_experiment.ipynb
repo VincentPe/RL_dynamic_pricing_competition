{
 "cells": [
  {
   "cell_type": "code",
   "execution_count": null,
   "id": "a8a8cfb8",
   "metadata": {},
   "outputs": [],
   "source": [
    "import os\n",
    "import shutil\n",
    "\n",
    "from azureml.core import Workspace, Experiment, Environment, ScriptRunConfig\n",
    "from azureml.train.hyperdrive import HyperDriveConfig, PrimaryMetricGoal, RandomParameterSampling, choice, uniform\n",
    "from azureml.train.dnn import TensorFlow\n",
    "from library.azure import services"
   ]
  },
  {
   "cell_type": "code",
   "execution_count": null,
   "id": "cde4c066",
   "metadata": {},
   "outputs": [],
   "source": [
    "create_new_env = False"
   ]
  },
  {
   "cell_type": "code",
   "execution_count": null,
   "id": "9d8c00f2",
   "metadata": {},
   "outputs": [],
   "source": [
    "# Initialise workspace from config file stored locally\n",
    "ws = Workspace.from_config()\n",
    "print('Workspace name: ' + ws.name,\n",
    "      'Azure region: ' + ws.location,\n",
    "      'Subscription id: ' + ws.subscription_id,\n",
    "      'Resource group: ' + ws.resource_group, sep='\\n')"
   ]
  },
  {
   "cell_type": "code",
   "execution_count": null,
   "id": "6698dbf8",
   "metadata": {},
   "outputs": [],
   "source": [
    "# Create an Azure ML experiment and a local script folder\n",
    "experiment_name = 'stock_remainder_penalty' #'price_diff_penalty'   #'more_training'\n",
    "project_folder = './submitted_experiments/' + experiment_name\n",
    "os.makedirs(project_folder, exist_ok=True)\n",
    "exp = Experiment(workspace=ws, name=experiment_name)"
   ]
  },
  {
   "cell_type": "code",
   "execution_count": null,
   "id": "5b476b5e",
   "metadata": {},
   "outputs": [],
   "source": [
    "# Copy the training script into the project directory\n",
    "shutil.copy('./execute_experiment.ipynb', project_folder)\n",
    "shutil.copy('./train_script.py', project_folder)\n",
    "shutil.copy('./helper_functions.py', project_folder)\n",
    "shutil.copy('./environment_functions.py', project_folder)\n",
    "#TODO: add agent checkpoint folder to copy"
   ]
  },
  {
   "cell_type": "code",
   "execution_count": null,
   "id": "b367c65c",
   "metadata": {},
   "outputs": [],
   "source": [
    "# Select compute resource: instance name + nr\n",
    "# e.g. the first STANDARD_D1 machine will be called STANDARD-D1-1 (no underscores allowed)\n",
    "compute_name = 'STANDARD-NC6-1'  #'STANDARD-DS3-1' \n",
    "# Verify that cluster does not exist already\n",
    "compute_target = services.get_compute(\n",
    "    workspace=ws, \n",
    "    compute_name=compute_name, \n",
    "    vm_size=\"STANDARD_DS3_V2\", #\"STANDARD_NC6\",\n",
    "    min_nodes=1,\n",
    "    max_nodes=4,\n",
    "    #vm_priority=\"lowpriority\"\n",
    ")"
   ]
  },
  {
   "cell_type": "code",
   "execution_count": null,
   "id": "44c1e46a",
   "metadata": {},
   "outputs": [],
   "source": [
    "# Use list with scriptrunconfig\n",
    "script_params = [\n",
    "    # Policy args\n",
    "    '--policy', 'epsilon_greedy',  #'boltzmann_temperature',  #\n",
    "#     '--boltzmann-temperature-start', 100.0,\n",
    "#     '--boltzmann-temperature-end', 1.0,\n",
    "    '--epsilon-greedy-start', 1.0,\n",
    "    '--epsilon-greedy-end', 0.01,\n",
    "    '--update-period', 4,\n",
    "    '--decay-steps', 150000,\n",
    "    '--exponential-decay-rate', 1.0,\n",
    "    \n",
    "    # Action args\n",
    "    '--min-action', 30,\n",
    "    '--max-action', 150,\n",
    "    '--action-step', 3,\n",
    "    '--comp-sellout-price', 120,\n",
    "    '--early-termination-penalty', 10,  # Multiplied by nr of remaining days\n",
    "    '--price-diff-penalty', 0.5,\n",
    "#     '--stock-remainder-penalty', 50,\n",
    "    \n",
    "    # Training args\n",
    "    '--replay-buffer-max-size', 10000,\n",
    "    '--replay-buffer-batch-size', 1,\n",
    "    '--discount', 1.0,\n",
    "    '--sample-batch-size', 64,\n",
    "    '--num-steps', 2,\n",
    "    \n",
    "    # Train duration args\n",
    "    '--train-seasons', 1500,  #3000,\n",
    "    '--early-stop-improvement-seasons', 500,\n",
    "    '--early-stopping-patience', 1000,\n",
    "    '--evaluation-nr-seasons', 300,\n",
    "    \n",
    "    # Neural net args\n",
    "    '--hidden-units-layer1', 20,\n",
    "    '--hidden-units-layer2', 40,\n",
    "    '--learning-rate', 1e-3,\n",
    "    '--beta-1', 0.9,\n",
    "    '--beta-2', 0.999,\n",
    "    \n",
    "    # Plotting and saving\n",
    "    '--plot-interval', 500,\n",
    "    '--sample-seasons-for-plots', 5,\n",
    "]\n",
    "\n",
    "# GridParameterSampling or RandomParameterSampling\n",
    "param_sampling = RandomParameterSampling({\n",
    "    #'--discount': choice(0.99, 1.0),\n",
    "#     '--early-termination-penalty': choice(0, 5, 10, 20),\n",
    "#     '--learning-rate': choice(0.0025, 0.001, 0.0005)\n",
    "#     '--exponential-decay-rate': choice(1.0, 0.3, 0.2, 0.1)\n",
    "#     '--price-diff-penalty': choice(0., 0.25, 0.5, 0.75)\n",
    "    '--stock-remainder-penalty': choice(0, 50, 100)\n",
    "})"
   ]
  },
  {
   "cell_type": "code",
   "execution_count": null,
   "id": "15538dcb",
   "metadata": {},
   "outputs": [],
   "source": [
    "if create_new_env:\n",
    "\n",
    "    env = Environment(name=\"customize_tensorflow_gpu_curated\")\n",
    "\n",
    "    dockerfile = \"\"\"\n",
    "    FROM mcr.microsoft.com/azureml/openmpi3.1.2-ubuntu18.04:20210615.v1\n",
    "    RUN pip install --upgrade pip\n",
    "    RUN python3 -m pip install --upgrade https://storage.googleapis.com/tensorflow/linux/gpu/tensorflow_gpu-2.7.0-cp37-cp37m-manylinux2010_x86_64.whl\n",
    "    RUN pip install tf-agents==0.11.0 pandas matplotlib seaborn keras azureml azureml-core\n",
    "    \"\"\"\n",
    "\n",
    "    env.docker.base_image = None\n",
    "    env.docker.base_dockerfile = dockerfile\n",
    "    env.python.user_managed_dependencies=True\n",
    "\n",
    "    env.register(workspace=ws)\n",
    "\n",
    "    build = env.build(workspace=ws)\n",
    "    build.wait_for_completion(show_output=True)"
   ]
  },
  {
   "cell_type": "code",
   "execution_count": null,
   "id": "acf4174f",
   "metadata": {},
   "outputs": [],
   "source": [
    "env = Environment.get(workspace=ws, name=\"customize_tensorflow_gpu_curated\")\n",
    "env.environment_variables = {\"AZUREML_COMPUTE_USE_COMMON_RUNTIME\":\"false\"}\n",
    "\n",
    "src = ScriptRunConfig(source_directory=project_folder, \n",
    "                      arguments=script_params,\n",
    "                      script=\"train_script.py\", \n",
    "                      compute_target=compute_target, \n",
    "                      environment=env)\n",
    "\n",
    "# # Bandit policy for early stopping\n",
    "# bandit_policy = BanditPolicy(evaluation_interval=2,\n",
    "#                              slack_factor=0.1,\n",
    "#                              delay_evaluation=5)\n",
    "\n",
    "hdc = HyperDriveConfig(run_config=src,  # use either run config or estimator=estimator,\n",
    "                       hyperparameter_sampling=param_sampling,\n",
    "                       #policy=bandit_policy,\n",
    "                       primary_metric_name=\"Evaluation_reward\",\n",
    "                       primary_metric_goal=PrimaryMetricGoal.MAXIMIZE,\n",
    "                       max_total_runs=4,  # dependent on hyper param space, how many combinations to try\n",
    "                       max_concurrent_runs=4)  # Resource must be able to run this amount of runs in parallel"
   ]
  },
  {
   "cell_type": "code",
   "execution_count": null,
   "id": "923b3504",
   "metadata": {},
   "outputs": [],
   "source": [
    "run = exp.submit(config=hdc)\n",
    "# run.wait_for_completion(show_output=True) # comment out when you want to use your console"
   ]
  },
  {
   "cell_type": "code",
   "execution_count": null,
   "id": "66288225",
   "metadata": {},
   "outputs": [],
   "source": []
  }
 ],
 "metadata": {
  "kernelspec": {
   "display_name": "dynamic_pricing_comp",
   "language": "python",
   "name": "dynamic_pricing_comp"
  },
  "language_info": {
   "codemirror_mode": {
    "name": "ipython",
    "version": 3
   },
   "file_extension": ".py",
   "mimetype": "text/x-python",
   "name": "python",
   "nbconvert_exporter": "python",
   "pygments_lexer": "ipython3",
   "version": "3.7.11"
  }
 },
 "nbformat": 4,
 "nbformat_minor": 5
}
